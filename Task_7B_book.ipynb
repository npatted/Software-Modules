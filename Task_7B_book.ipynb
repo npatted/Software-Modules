{
 "cells": [
  {
   "cell_type": "markdown",
   "metadata": {},
   "source": [
    "# Create or Open CSV\n"
   ]
  },
  {
   "cell_type": "code",
   "execution_count": 1,
   "metadata": {},
   "outputs": [],
   "source": [
    "import csv\n",
    "with open('employee_details.csv', 'w', newline='') as file:\n",
    "    writer = csv.writer(file)\n",
    "    writer.writerow([\"SN\", \"Name\", \"Email-ID\"])\n",
    "    writer.writerow([1, \"Namrata Patted\", \"pattednamrata@gmail.com\"])\n",
    "    writer.writerow([2, \"Ram Krishna\", \"krishnaram@gmail.com\"])\n",
    "    writer.writerow([3, \"Nalini Mohan\", \"mohannaline@gmail.com\"])"
   ]
  },
  {
   "cell_type": "markdown",
   "metadata": {},
   "source": [
    "# Read CSV files."
   ]
  },
  {
   "cell_type": "code",
   "execution_count": 2,
   "metadata": {},
   "outputs": [
    {
     "data": {
      "text/plain": [
       "[['SN', 'Name', 'Email-ID'],\n",
       " ['1', 'Namrata Patted', 'pattednamrata@gmail.com'],\n",
       " ['2', 'Ram Krishna', 'krishnaram@gmail.com'],\n",
       " ['3', 'Nalini Mohan', 'mohannaline@gmail.com']]"
      ]
     },
     "execution_count": 2,
     "metadata": {},
     "output_type": "execute_result"
    }
   ],
   "source": [
    "data = open('employee_details.csv',encoding=\"utf-8\")\n",
    "csv_data=csv.reader(data)\n",
    "datalines=list(csv_data)\n",
    "datalines"
   ]
  },
  {
   "cell_type": "markdown",
   "metadata": {},
   "source": [
    "# Writing to Existing File"
   ]
  },
  {
   "cell_type": "code",
   "execution_count": 3,
   "metadata": {},
   "outputs": [],
   "source": [
    "with open('employee_details.csv', 'a', newline='') as file:\n",
    "    writer = csv.writer(file)\n",
    "    writer.writerow([\"4\", \"Raj Deep\", \"deepraj@gmail.com\"])"
   ]
  },
  {
   "cell_type": "code",
   "execution_count": 4,
   "metadata": {},
   "outputs": [
    {
     "data": {
      "text/plain": [
       "[['SN', 'Name', 'Email-ID'],\n",
       " ['1', 'Namrata Patted', 'pattednamrata@gmail.com'],\n",
       " ['2', 'Ram Krishna', 'krishnaram@gmail.com'],\n",
       " ['3', 'Nalini Mohan', 'mohannaline@gmail.com'],\n",
       " ['4', 'Raj Deep', 'deepraj@gmail.com']]"
      ]
     },
     "execution_count": 4,
     "metadata": {},
     "output_type": "execute_result"
    }
   ],
   "source": [
    "data = open('employee_details.csv',encoding=\"utf-8\")\n",
    "csv_data=csv.reader(data)\n",
    "datalines=list(csv_data)\n",
    "datalines"
   ]
  }
 ],
 "metadata": {
  "kernelspec": {
   "display_name": "Python 3",
   "language": "python",
   "name": "python3"
  },
  "language_info": {
   "codemirror_mode": {
    "name": "ipython",
    "version": 3
   },
   "file_extension": ".py",
   "mimetype": "text/x-python",
   "name": "python",
   "nbconvert_exporter": "python",
   "pygments_lexer": "ipython3",
   "version": "3.8.3"
  }
 },
 "nbformat": 4,
 "nbformat_minor": 4
}
